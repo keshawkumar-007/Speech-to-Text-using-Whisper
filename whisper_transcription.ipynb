{
 "cells": [
  {
   "cell_type": "code",
   "execution_count": 4,
   "id": "b5521443-b6af-47f0-b37f-2bbe4997fa5b",
   "metadata": {},
   "outputs": [
    {
     "name": "stdin",
     "output_type": "stream",
     "text": [
      "🎤 Enter path to your audio file (e.g., 'audio.mp3'):  music.mp3\n"
     ]
    },
    {
     "name": "stdout",
     "output_type": "stream",
     "text": [
      "🔍 Transcribing using Whisper base model...\n"
     ]
    },
    {
     "name": "stderr",
     "output_type": "stream",
     "text": [
      "C:\\Users\\Keshaw Kumar\\AppData\\Local\\Programs\\Python\\Python311\\Lib\\site-packages\\whisper\\transcribe.py:126: UserWarning: FP16 is not supported on CPU; using FP32 instead\n",
      "  warnings.warn(\"FP16 is not supported on CPU; using FP32 instead\")\n"
     ]
    },
    {
     "name": "stdout",
     "output_type": "stream",
     "text": [
      "\n",
      "📄 Transcription Output:\n",
      " You've been running around, running around, running around, throwing that dirt all on my name Cause you knew that I knew that I knew that I'd call you up You been going around, going around, going around, never read party in LA Cause you knew that I knew that I'd knew that I'd be at one I know that dress is karma, perfume regret You got me thinking about where you were mine Oh, and now I'm all upon you, what you expect? What you're not coming home with me tonight? You just wanna tension, you don't want my heart Maybe you just hate the fun of me where someone new Yeah, you just wanna tension, I knew from the start You're just making sure I'm never getting in and over you You've been running around, running around, running around, throwing that dirt all on my name Cause you knew that I knew that I'd knew that I'd call you up Maybe now they're way, now they're way, now they're way, now they're your standards is too bad You already know, already know, already know that you won I know that dress is karma, perfume regret You got me thinking about where you were mine Oh, and now I'm all upon you, what you expect? What you're not coming home with me tonight? You just wanna tension, you don't want my heart Maybe you just hate the fun of me where someone new Yeah, you just wanna tension, I knew from the start You're just making sure I'm never getting in and over you I know that dress is karma, perfume regret You got me thinking about where you were mine And now I'm all upon you, what you expect? What you're not coming home with me tonight? You just wanna tension, you don't want my heart Maybe you just hate the fun of me where someone new Yeah, you just wanna tension, I knew from the start You're just making sure I'm never getting in and over you What you're not coming home with me tonight? What you're not coming home with me where someone new Yeah, you just wanna tension, I knew from the start You're just making sure I'm never getting in and over you You\n",
      "✅ Transcription saved to 'transcription.txt'\n"
     ]
    }
   ],
   "source": [
    "import whisper\n",
    "import os\n",
    "\n",
    "# Load model (tiny, base, small, medium, large)\n",
    "model_choice = \"base\"\n",
    "model = whisper.load_model(model_choice)\n",
    "\n",
    "# Ask user for file name\n",
    "file_path = input(\" Enter path to your audio file (e.g., 'audio.mp3'): \")\n",
    "\n",
    "# Check if file exists\n",
    "if not os.path.exists(file_path):\n",
    "    print(\" File not found!\")\n",
    "else:\n",
    "    print(f\" Transcribing using Whisper {model_choice} model...\")\n",
    "    result = model.transcribe(file_path)\n",
    "\n",
    "    print(\"\\n Transcription Output:\")\n",
    "    print(result[\"text\"])\n",
    "\n",
    "    # Optionally save to file\n",
    "    with open(\"transcription.txt\", \"w\", encoding=\"utf-8\") as f:\n",
    "        f.write(result[\"text\"])\n",
    "    print(\" Transcription saved to 'transcription.txt'\")\n"
   ]
  }
 ],
 "metadata": {
  "kernelspec": {
   "display_name": "Python 3 (ipykernel)",
   "language": "python",
   "name": "python3"
  },
  "language_info": {
   "codemirror_mode": {
    "name": "ipython",
    "version": 3
   },
   "file_extension": ".py",
   "mimetype": "text/x-python",
   "name": "python",
   "nbconvert_exporter": "python",
   "pygments_lexer": "ipython3",
   "version": "3.11.0"
  }
 },
 "nbformat": 4,
 "nbformat_minor": 5
}

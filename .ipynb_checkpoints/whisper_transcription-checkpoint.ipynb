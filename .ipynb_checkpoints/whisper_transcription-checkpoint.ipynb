{
 "cells": [
  {
   "cell_type": "code",
   "execution_count": null,
   "id": "b5521443-b6af-47f0-b37f-2bbe4997fa5b",
   "metadata": {},
   "outputs": [],
   "source": [
    "import whisper\n",
    "import os\n",
    "\n",
    "# Load model (tiny, base, small, medium, large)\n",
    "model_choice = \"base\"\n",
    "model = whisper.load_model(model_choice)\n",
    "\n",
    "# Ask user for file name\n",
    "file_path = input(\"🎤 Enter path to your audio file (e.g., 'audio.mp3'): \")\n",
    "\n",
    "# Check if file exists\n",
    "if not os.path.exists(file_path):\n",
    "    print(\"❌ File not found!\")\n",
    "else:\n",
    "    print(f\"🔍 Transcribing using Whisper {model_choice} model...\")\n",
    "    result = model.transcribe(file_path)\n",
    "\n",
    "    print(\"\\n📄 Transcription Output:\")\n",
    "    print(result[\"text\"])\n",
    "\n",
    "    # Optionally save to file\n",
    "    with open(\"transcription.txt\", \"w\", encoding=\"utf-8\") as f:\n",
    "        f.write(result[\"text\"])\n",
    "    print(\"✅ Transcription saved to 'transcription.txt'\")\n"
   ]
  },
  {
   "cell_type": "code",
   "execution_count": null,
   "id": "3fba3fd5-beb3-42e1-aa2a-dd77bad0b48b",
   "metadata": {},
   "outputs": [],
   "source": []
  },
  {
   "cell_type": "code",
   "execution_count": 2,
   "id": "eb08f81e-1015-4df9-b9c0-9af9f13a84c5",
   "metadata": {},
   "outputs": [
    {
     "ename": "NameError",
     "evalue": "name 'a' is not defined",
     "output_type": "error",
     "traceback": [
      "\u001b[31m---------------------------------------------------------------------------\u001b[39m",
      "\u001b[31mNameError\u001b[39m                                 Traceback (most recent call last)",
      "\u001b[36mCell\u001b[39m\u001b[36m \u001b[39m\u001b[32mIn[2]\u001b[39m\u001b[32m, line 1\u001b[39m\n\u001b[32m----> \u001b[39m\u001b[32m1\u001b[39m \u001b[43ma\u001b[49m.m4a\n",
      "\u001b[31mNameError\u001b[39m: name 'a' is not defined"
     ]
    }
   ],
   "source": [
    "a.m4a\n"
   ]
  },
  {
   "cell_type": "code",
   "execution_count": null,
   "id": "2faa8efe-5201-4a99-93ca-db58bea261cd",
   "metadata": {},
   "outputs": [],
   "source": []
  }
 ],
 "metadata": {
  "kernelspec": {
   "display_name": "Python 3 (ipykernel)",
   "language": "python",
   "name": "python3"
  },
  "language_info": {
   "codemirror_mode": {
    "name": "ipython",
    "version": 3
   },
   "file_extension": ".py",
   "mimetype": "text/x-python",
   "name": "python",
   "nbconvert_exporter": "python",
   "pygments_lexer": "ipython3",
   "version": "3.11.0"
  }
 },
 "nbformat": 4,
 "nbformat_minor": 5
}
